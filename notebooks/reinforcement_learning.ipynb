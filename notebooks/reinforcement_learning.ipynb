{
  "nbformat": 4,
  "nbformat_minor": 0,
  "metadata": {
    "colab": {
      "provenance": []
    },
    "kernelspec": {
      "name": "python3",
      "display_name": "Python 3"
    },
    "language_info": {
      "name": "python"
    },
    "accelerator": "GPU",
    "gpuClass": "standard",
    "widgets": {
      "application/vnd.jupyter.widget-state+json": {
        "cf5b496ca065444cb7b872cf8892e0ea": {
          "model_module": "@jupyter-widgets/output",
          "model_name": "OutputModel",
          "model_module_version": "1.0.0",
          "state": {
            "_dom_classes": [],
            "_model_module": "@jupyter-widgets/output",
            "_model_module_version": "1.0.0",
            "_model_name": "OutputModel",
            "_view_count": null,
            "_view_module": "@jupyter-widgets/output",
            "_view_module_version": "1.0.0",
            "_view_name": "OutputView",
            "layout": "IPY_MODEL_9b9597d40b99416486f21e6b8d0941d1",
            "msg_id": "",
            "outputs": [
              {
                "output_type": "display_data",
                "data": {
                  "text/plain": "\u001b[35m 100%\u001b[0m \u001b[38;2;114;156;31m━━━━━━━━━━━━━━━━━━━━━━━━━━━━━━━━━━━━━━━━━━━━━━━━━━━━━━━━━━━━━\u001b[0m \u001b[32m10,225/10,000 \u001b[0m [ \u001b[33m0:00:24\u001b[0m < \u001b[36m0:00:00\u001b[0m , \u001b[31m406 it/s\u001b[0m ]\n",
                  "text/html": "<pre style=\"white-space:pre;overflow-x:auto;line-height:normal;font-family:Menlo,'DejaVu Sans Mono',consolas,'Courier New',monospace\"><span style=\"color: #800080; text-decoration-color: #800080\"> 100%</span> <span style=\"color: #729c1f; text-decoration-color: #729c1f\">━━━━━━━━━━━━━━━━━━━━━━━━━━━━━━━━━━━━━━━━━━━━━━━━━━━━━━━━━━━━━</span> <span style=\"color: #008000; text-decoration-color: #008000\">10,225/10,000 </span> [ <span style=\"color: #808000; text-decoration-color: #808000\">0:00:24</span> &lt; <span style=\"color: #008080; text-decoration-color: #008080\">0:00:00</span> , <span style=\"color: #800000; text-decoration-color: #800000\">406 it/s</span> ]\n</pre>\n"
                },
                "metadata": {}
              }
            ]
          }
        },
        "9b9597d40b99416486f21e6b8d0941d1": {
          "model_module": "@jupyter-widgets/base",
          "model_name": "LayoutModel",
          "model_module_version": "1.2.0",
          "state": {
            "_model_module": "@jupyter-widgets/base",
            "_model_module_version": "1.2.0",
            "_model_name": "LayoutModel",
            "_view_count": null,
            "_view_module": "@jupyter-widgets/base",
            "_view_module_version": "1.2.0",
            "_view_name": "LayoutView",
            "align_content": null,
            "align_items": null,
            "align_self": null,
            "border": null,
            "bottom": null,
            "display": null,
            "flex": null,
            "flex_flow": null,
            "grid_area": null,
            "grid_auto_columns": null,
            "grid_auto_flow": null,
            "grid_auto_rows": null,
            "grid_column": null,
            "grid_gap": null,
            "grid_row": null,
            "grid_template_areas": null,
            "grid_template_columns": null,
            "grid_template_rows": null,
            "height": null,
            "justify_content": null,
            "justify_items": null,
            "left": null,
            "margin": null,
            "max_height": null,
            "max_width": null,
            "min_height": null,
            "min_width": null,
            "object_fit": null,
            "object_position": null,
            "order": null,
            "overflow": null,
            "overflow_x": null,
            "overflow_y": null,
            "padding": null,
            "right": null,
            "top": null,
            "visibility": null,
            "width": null
          }
        }
      }
    }
  },
  "cells": [
    {
      "cell_type": "markdown",
      "source": [
        "## Reinforcement learning"
      ],
      "metadata": {
        "id": "qSwjm60DA5t6"
      }
    },
    {
      "cell_type": "markdown",
      "source": [
        "## Installation"
      ],
      "metadata": {
        "id": "uBAuXiu8Bk9m"
      }
    },
    {
      "cell_type": "code",
      "source": [
        "#@title Install `stable-baseline3` on Colab\n",
        "\n",
        "!apt-get update && apt-get install swig cmake\n",
        "!pip install box2d-py\n",
        "!pip install gymnasium\n",
        "!pip install \"stable-baselines3[extra]>=2.0.0a4\""
      ],
      "metadata": {
        "colab": {
          "base_uri": "https://localhost:8080/"
        },
        "id": "rQGkf_j3T90g",
        "outputId": "fffddd3a-266d-4af5-b24e-e07b0da0c1e6",
        "cellView": "form"
      },
      "execution_count": null,
      "outputs": [
        {
          "output_type": "stream",
          "name": "stderr",
          "text": [
            "/usr/local/lib/python3.10/dist-packages/ipykernel/ipkernel.py:283: DeprecationWarning: `should_run_async` will not call `transform_cell` automatically in the future. Please pass the result to `transformed_cell` argument and any exception that happen during thetransform in `preprocessing_exc_tuple` in IPython 7.17 and above.\n",
            "  and should_run_async(code)\n"
          ]
        },
        {
          "output_type": "stream",
          "name": "stdout",
          "text": [
            "\r0% [Working]\r            \rHit:1 https://cloud.r-project.org/bin/linux/ubuntu focal-cran40/ InRelease\n",
            "\r0% [Waiting for headers] [Connecting to security.ubuntu.com (185.125.190.39)] [\r                                                                               \rHit:2 http://archive.ubuntu.com/ubuntu focal InRelease\n",
            "\r0% [Waiting for headers] [Connecting to security.ubuntu.com (185.125.190.39)] [\r                                                                               \rHit:3 https://developer.download.nvidia.com/compute/cuda/repos/ubuntu2004/x86_64  InRelease\n",
            "Get:4 http://archive.ubuntu.com/ubuntu focal-updates InRelease [114 kB]\n",
            "Hit:5 http://ppa.launchpad.net/c2d4u.team/c2d4u4.0+/ubuntu focal InRelease\n",
            "Get:6 http://security.ubuntu.com/ubuntu focal-security InRelease [114 kB]\n",
            "Get:7 http://archive.ubuntu.com/ubuntu focal-backports InRelease [108 kB]\n",
            "Hit:8 http://ppa.launchpad.net/cran/libgit2/ubuntu focal InRelease\n",
            "Hit:9 http://ppa.launchpad.net/deadsnakes/ppa/ubuntu focal InRelease\n",
            "Hit:10 http://ppa.launchpad.net/graphics-drivers/ppa/ubuntu focal InRelease\n",
            "Hit:11 http://ppa.launchpad.net/ubuntugis/ppa/ubuntu focal InRelease\n",
            "Fetched 336 kB in 1s (286 kB/s)\n",
            "Reading package lists... Done\n",
            "Reading package lists... Done\n",
            "Building dependency tree       \n",
            "Reading state information... Done\n",
            "swig is already the newest version (4.0.1-5build1).\n",
            "cmake is already the newest version (3.16.3-1ubuntu1.20.04.1).\n",
            "0 upgraded, 0 newly installed, 0 to remove and 27 not upgraded.\n"
          ]
        }
      ]
    },
    {
      "cell_type": "code",
      "source": [
        "#@title Install `flygym` on Colab\n",
        "\n",
        "# This block is modified from dm_control's tutorial notebook\n",
        "# https://github.com/deepmind/dm_control/blob/main/tutorial.ipynb\n",
        "\n",
        "import subprocess\n",
        "if subprocess.run('nvidia-smi').returncode:\n",
        "    raise RuntimeError(\n",
        "        'Cannot communicate with GPU. '\n",
        "        'Make sure you are using a GPU Colab runtime. '\n",
        "        'Go to the Runtime menu and select Choose runtime type.')\n",
        "\n",
        "print('Installing flygym')\n",
        "!pip install -q --progress-bar=off 'flygym[mujoco] @ git+https://github.com/NeLy-EPFL/flygym.git'\n",
        "\n",
        "# Configure dm_control to use the EGL rendering backend (requires GPU)\n",
        "%env MUJOCO_GL=egl\n",
        "\n",
        "print('Checking that the dm_control installation succeeded...')\n",
        "try:\n",
        "    from dm_control import suite\n",
        "    env = suite.load('cartpole', 'swingup')\n",
        "    pixels = env.physics.render()\n",
        "except Exception as e:\n",
        "    raise e from RuntimeError(\n",
        "        'Something went wrong during dm_control installation. Check the shell '\n",
        "        'output above for more information.\\n'\n",
        "        'If using a hosted Colab runtime, make sure you enable GPU acceleration '\n",
        "        'by going to the Runtime menu and selecting \"Choose runtime type\".')\n",
        "else:\n",
        "    del pixels, suite\n",
        "\n",
        "print('Checking that the flygym installation succeeded...')\n",
        "try:\n",
        "    import flygym\n",
        "    from flygym import envs\n",
        "except Exception as e:\n",
        "    raise e from RuntimeError(\n",
        "        'Something went wrong during flygym installation. Check the shell '\n",
        "        'output above for more information.\\n')\n",
        "else:\n",
        "    del envs, flygym"
      ],
      "metadata": {
        "cellView": "form",
        "id": "Iv0lrfXDBUhQ"
      },
      "execution_count": null,
      "outputs": []
    },
    {
      "cell_type": "markdown",
      "source": [
        "## Demo: Cartpole\n",
        "\n",
        "We will demonstrate the use of reinforcement learning in training a controller for Cartpole: a toy environment where you try to balance a vertical pole on a cart by moving the cart left and right.\n",
        "\n",
        "Cartpole is a predefined Gym, which makes it very easy to initialize. In the following code, the `gym.make` function creates a Gym environment that has been registered to `Gym`; it is equivalent to our `nmf = NeuroMechFlyMuJoCo(...)` call. "
      ],
      "metadata": {
        "id": "yMpfR0ZVBwZq"
      }
    },
    {
      "cell_type": "code",
      "source": [
        "import gymnasium as gym\n",
        "\n",
        "cartpole_env = gym.make('CartPole-v1', render_mode='rgb_array')"
      ],
      "metadata": {
        "colab": {
          "base_uri": "https://localhost:8080/"
        },
        "id": "wEXloVA_BvxX",
        "outputId": "537e3d20-e30a-4869-8e1b-765d9a3d2337"
      },
      "execution_count": null,
      "outputs": [
        {
          "output_type": "stream",
          "name": "stderr",
          "text": [
            "/usr/local/lib/python3.10/dist-packages/ipykernel/ipkernel.py:283: DeprecationWarning: `should_run_async` will not call `transform_cell` automatically in the future. Please pass the result to `transformed_cell` argument and any exception that happen during thetransform in `preprocessing_exc_tuple` in IPython 7.17 and above.\n",
            "  and should_run_async(code)\n"
          ]
        }
      ]
    },
    {
      "cell_type": "markdown",
      "source": [
        "Next, we initialize a model using `stable-baselines3`. This, once again, is a one-liner:"
      ],
      "metadata": {
        "id": "DvMZXF5FCbuj"
      }
    },
    {
      "cell_type": "code",
      "source": [
        "from stable_baselines3 import PPO\n",
        "from stable_baselines3.ppo import MlpPolicy\n",
        "\n",
        "cartpole_model = PPO(MlpPolicy, cartpole_env, verbose=1)"
      ],
      "metadata": {
        "colab": {
          "base_uri": "https://localhost:8080/"
        },
        "id": "VgAK9NIQCbgB",
        "outputId": "4f690940-b69a-4f61-a2ce-1765edb3156a"
      },
      "execution_count": null,
      "outputs": [
        {
          "output_type": "stream",
          "name": "stderr",
          "text": [
            "/usr/local/lib/python3.10/dist-packages/ipykernel/ipkernel.py:283: DeprecationWarning: `should_run_async` will not call `transform_cell` automatically in the future. Please pass the result to `transformed_cell` argument and any exception that happen during thetransform in `preprocessing_exc_tuple` in IPython 7.17 and above.\n",
            "  and should_run_async(code)\n"
          ]
        },
        {
          "output_type": "stream",
          "name": "stdout",
          "text": [
            "Using cuda device\n",
            "Wrapping the env with a `Monitor` wrapper\n",
            "Wrapping the env in a DummyVecEnv.\n"
          ]
        }
      ]
    },
    {
      "cell_type": "markdown",
      "source": [
        "We can now evaluate the untrained random policy for the task. Note that we wrap the environment around the `Monitor` class, which is used to keep track of information like episode reward."
      ],
      "metadata": {
        "id": "4svLRgPqDX2z"
      }
    },
    {
      "cell_type": "code",
      "source": [
        "from stable_baselines3.common.evaluation import evaluate_policy\n",
        "from stable_baselines3.common.monitor import Monitor\n",
        "\n",
        "mean_reward, std_reward = evaluate_policy(cartpole_model,\n",
        "                                          Monitor(cartpole_env),\n",
        "                                          n_eval_episodes=100)\n",
        "print(f\"mean_reward:{mean_reward:.2f} +/- {std_reward:.2f}\")"
      ],
      "metadata": {
        "colab": {
          "base_uri": "https://localhost:8080/"
        },
        "id": "ylwSq6cCDewc",
        "outputId": "38c99582-e942-4c93-9216-09039a2db9fd"
      },
      "execution_count": null,
      "outputs": [
        {
          "output_type": "stream",
          "name": "stderr",
          "text": [
            "/usr/local/lib/python3.10/dist-packages/ipykernel/ipkernel.py:283: DeprecationWarning: `should_run_async` will not call `transform_cell` automatically in the future. Please pass the result to `transformed_cell` argument and any exception that happen during thetransform in `preprocessing_exc_tuple` in IPython 7.17 and above.\n",
            "  and should_run_async(code)\n"
          ]
        },
        {
          "output_type": "stream",
          "name": "stdout",
          "text": [
            "mean_reward:9.46 +/- 0.71\n"
          ]
        }
      ]
    },
    {
      "cell_type": "markdown",
      "source": [
        "Remember the reward is simply the number of timesteps where the controller mangaged to keep the pole upright. The result is not very impressive.\n",
        "\n",
        "Now, we can train the model for 10,000 iterations:"
      ],
      "metadata": {
        "id": "2rorzhEHBcsU"
      }
    },
    {
      "cell_type": "code",
      "source": [
        "cartpole_model.learn(total_timesteps=10000, progress_bar=True)"
      ],
      "metadata": {
        "colab": {
          "base_uri": "https://localhost:8080/",
          "height": 1000,
          "referenced_widgets": [
            "cf5b496ca065444cb7b872cf8892e0ea",
            "9b9597d40b99416486f21e6b8d0941d1"
          ]
        },
        "id": "QDoywZQTEO0z",
        "outputId": "44b3b31e-b81e-4445-b52d-07781c187c17"
      },
      "execution_count": null,
      "outputs": [
        {
          "output_type": "display_data",
          "data": {
            "text/plain": [
              "Output()"
            ],
            "application/vnd.jupyter.widget-view+json": {
              "version_major": 2,
              "version_minor": 0,
              "model_id": "cf5b496ca065444cb7b872cf8892e0ea"
            }
          },
          "metadata": {}
        },
        {
          "output_type": "stream",
          "name": "stderr",
          "text": [
            "/usr/local/lib/python3.10/dist-packages/ipykernel/ipkernel.py:283: DeprecationWarning: `should_run_async` will not call `transform_cell` automatically in the future. Please pass the result to `transformed_cell` argument and any exception that happen during thetransform in `preprocessing_exc_tuple` in IPython 7.17 and above.\n",
            "  and should_run_async(code)\n"
          ]
        },
        {
          "output_type": "stream",
          "name": "stdout",
          "text": [
            "---------------------------------\n",
            "| rollout/           |          |\n",
            "|    ep_len_mean     | 21.5     |\n",
            "|    ep_rew_mean     | 21.5     |\n",
            "| time/              |          |\n",
            "|    fps             | 510      |\n",
            "|    iterations      | 1        |\n",
            "|    time_elapsed    | 4        |\n",
            "|    total_timesteps | 2048     |\n",
            "---------------------------------\n",
            "-----------------------------------------\n",
            "| rollout/                |             |\n",
            "|    ep_len_mean          | 27.1        |\n",
            "|    ep_rew_mean          | 27.1        |\n",
            "| time/                   |             |\n",
            "|    fps                  | 458         |\n",
            "|    iterations           | 2           |\n",
            "|    time_elapsed         | 8           |\n",
            "|    total_timesteps      | 4096        |\n",
            "| train/                  |             |\n",
            "|    approx_kl            | 0.008309799 |\n",
            "|    clip_fraction        | 0.0936      |\n",
            "|    clip_range           | 0.2         |\n",
            "|    entropy_loss         | -0.686      |\n",
            "|    explained_variance   | -0.00941    |\n",
            "|    learning_rate        | 0.0003      |\n",
            "|    loss                 | 7.34        |\n",
            "|    n_updates            | 10          |\n",
            "|    policy_gradient_loss | -0.0132     |\n",
            "|    value_loss           | 48.8        |\n",
            "-----------------------------------------\n",
            "------------------------------------------\n",
            "| rollout/                |              |\n",
            "|    ep_len_mean          | 33.5         |\n",
            "|    ep_rew_mean          | 33.5         |\n",
            "| time/                   |              |\n",
            "|    fps                  | 450          |\n",
            "|    iterations           | 3            |\n",
            "|    time_elapsed         | 13           |\n",
            "|    total_timesteps      | 6144         |\n",
            "| train/                  |              |\n",
            "|    approx_kl            | 0.0091519095 |\n",
            "|    clip_fraction        | 0.0623       |\n",
            "|    clip_range           | 0.2          |\n",
            "|    entropy_loss         | -0.667       |\n",
            "|    explained_variance   | 0.106        |\n",
            "|    learning_rate        | 0.0003       |\n",
            "|    loss                 | 9.52         |\n",
            "|    n_updates            | 20           |\n",
            "|    policy_gradient_loss | -0.0187      |\n",
            "|    value_loss           | 33.3         |\n",
            "------------------------------------------\n",
            "-----------------------------------------\n",
            "| rollout/                |             |\n",
            "|    ep_len_mean          | 43.3        |\n",
            "|    ep_rew_mean          | 43.3        |\n",
            "| time/                   |             |\n",
            "|    fps                  | 413         |\n",
            "|    iterations           | 4           |\n",
            "|    time_elapsed         | 19          |\n",
            "|    total_timesteps      | 8192        |\n",
            "| train/                  |             |\n",
            "|    approx_kl            | 0.009214294 |\n",
            "|    clip_fraction        | 0.0962      |\n",
            "|    clip_range           | 0.2         |\n",
            "|    entropy_loss         | -0.632      |\n",
            "|    explained_variance   | 0.232       |\n",
            "|    learning_rate        | 0.0003      |\n",
            "|    loss                 | 16.6        |\n",
            "|    n_updates            | 30          |\n",
            "|    policy_gradient_loss | -0.0189     |\n",
            "|    value_loss           | 46.1        |\n",
            "-----------------------------------------\n",
            "-----------------------------------------\n",
            "| rollout/                |             |\n",
            "|    ep_len_mean          | 56.8        |\n",
            "|    ep_rew_mean          | 56.8        |\n",
            "| time/                   |             |\n",
            "|    fps                  | 404         |\n",
            "|    iterations           | 5           |\n",
            "|    time_elapsed         | 25          |\n",
            "|    total_timesteps      | 10240       |\n",
            "| train/                  |             |\n",
            "|    approx_kl            | 0.008035253 |\n",
            "|    clip_fraction        | 0.0691      |\n",
            "|    clip_range           | 0.2         |\n",
            "|    entropy_loss         | -0.618      |\n",
            "|    explained_variance   | 0.31        |\n",
            "|    learning_rate        | 0.0003      |\n",
            "|    loss                 | 28.5        |\n",
            "|    n_updates            | 40          |\n",
            "|    policy_gradient_loss | -0.0173     |\n",
            "|    value_loss           | 57.5        |\n",
            "-----------------------------------------\n"
          ]
        },
        {
          "output_type": "display_data",
          "data": {
            "text/plain": [],
            "text/html": [
              "<pre style=\"white-space:pre;overflow-x:auto;line-height:normal;font-family:Menlo,'DejaVu Sans Mono',consolas,'Courier New',monospace\"></pre>\n"
            ]
          },
          "metadata": {}
        },
        {
          "output_type": "display_data",
          "data": {
            "text/plain": [
              "\n"
            ],
            "text/html": [
              "<pre style=\"white-space:pre;overflow-x:auto;line-height:normal;font-family:Menlo,'DejaVu Sans Mono',consolas,'Courier New',monospace\">\n",
              "</pre>\n"
            ]
          },
          "metadata": {}
        },
        {
          "output_type": "execute_result",
          "data": {
            "text/plain": [
              "<stable_baselines3.ppo.ppo.PPO at 0x7f2628b93af0>"
            ]
          },
          "metadata": {},
          "execution_count": 8
        }
      ]
    },
    {
      "cell_type": "markdown",
      "source": [
        "Let's reevaluate the model:"
      ],
      "metadata": {
        "id": "bcIDV-jsBcdE"
      }
    },
    {
      "cell_type": "code",
      "source": [
        "mean_reward, std_reward = evaluate_policy(cartpole_model,\n",
        "                                          Monitor(cartpole_env),\n",
        "                                          n_eval_episodes=100)\n",
        "print(f\"mean_reward:{mean_reward:.2f} +/- {std_reward:.2f}\")"
      ],
      "metadata": {
        "colab": {
          "base_uri": "https://localhost:8080/"
        },
        "id": "0TezzFR4EV6N",
        "outputId": "bc506a48-f0a0-4b36-b376-478347497d47"
      },
      "execution_count": null,
      "outputs": [
        {
          "output_type": "stream",
          "name": "stderr",
          "text": [
            "/usr/local/lib/python3.10/dist-packages/ipykernel/ipkernel.py:283: DeprecationWarning: `should_run_async` will not call `transform_cell` automatically in the future. Please pass the result to `transformed_cell` argument and any exception that happen during thetransform in `preprocessing_exc_tuple` in IPython 7.17 and above.\n",
            "  and should_run_async(code)\n"
          ]
        },
        {
          "output_type": "stream",
          "name": "stdout",
          "text": [
            "mean_reward:428.96 +/- 98.69\n"
          ]
        }
      ]
    },
    {
      "cell_type": "markdown",
      "source": [
        "Better. Let's take a look at a video of a simulation:"
      ],
      "metadata": {
        "id": "IdjE-19GEcIm"
      }
    },
    {
      "cell_type": "code",
      "source": [
        "obs = cartpole_env.reset()\n",
        "scenes = []\n",
        "for i in range(500):\n",
        "    action, _ = cartpole_model.predict(cartpole_env.state)\n",
        "    obs, reward, terminated, truncated, info = cartpole_env.step(action)\n",
        "    scenes.append(cartpole_env.render())\n",
        "    if terminated:\n",
        "        # stop early if the simulation terminates early because the pole fell\n",
        "        break"
      ],
      "metadata": {
        "colab": {
          "base_uri": "https://localhost:8080/"
        },
        "id": "j3b_FJBHEWmq",
        "outputId": "c4739183-f6a4-4357-915a-066df39f3eee"
      },
      "execution_count": null,
      "outputs": [
        {
          "output_type": "stream",
          "name": "stderr",
          "text": [
            "/usr/local/lib/python3.10/dist-packages/ipykernel/ipkernel.py:283: DeprecationWarning: `should_run_async` will not call `transform_cell` automatically in the future. Please pass the result to `transformed_cell` argument and any exception that happen during thetransform in `preprocessing_exc_tuple` in IPython 7.17 and above.\n",
            "  and should_run_async(code)\n"
          ]
        }
      ]
    },
    {
      "cell_type": "code",
      "source": [
        "import mediapy\n",
        "mediapy.show_video(scenes)"
      ],
      "metadata": {
        "colab": {
          "base_uri": "https://localhost:8080/",
          "height": 478
        },
        "id": "KsX0iFXFEWXq",
        "outputId": "b074742f-2f83-4439-ed1d-88d0eb70b59e"
      },
      "execution_count": null,
      "outputs": [
        {
          "output_type": "stream",
          "name": "stderr",
          "text": [
            "/usr/local/lib/python3.10/dist-packages/ipykernel/ipkernel.py:283: DeprecationWarning: `should_run_async` will not call `transform_cell` automatically in the future. Please pass the result to `transformed_cell` argument and any exception that happen during thetransform in `preprocessing_exc_tuple` in IPython 7.17 and above.\n",
            "  and should_run_async(code)\n"
          ]
        },
        {
          "output_type": "display_data",
          "data": {
            "text/plain": [
              "<IPython.core.display.HTML object>"
            ],
            "text/html": [
              "<table class=\"show_videos\" style=\"border-spacing:0px;\"><tr><td style=\"padding:1px;\"><video controls width=\"600\" height=\"400\" style=\"object-fit:cover;\" loop autoplay muted>\n",
              "      <source src=\"data:video/mp4;base64,AAAAIGZ0eXBpc29tAAACAGlzb21pc28yYXZjMW1wNDEAAAAIZnJlZQAAR2RtZGF0AAACfwYF//973EXpvebZSLeWLNgg2SPu73gyNjQgLSBjb3JlIDE1NSByMjkxNyAwYTg0ZDk4IC0gSC4yNjQvTVBFRy00IEFWQyBjb2RlYyAtIENvcHlsZWZ0IDIwMDMtMjAxOCAtIGh0dHA6Ly93d3cudmlkZW9sYW4ub3JnL3gyNjQuaHRtbCAtIG9wdGlvbnM6IGNhYmFjPTEgcmVmPTMgZGVibG9jaz0xOjA6MCBhbmFseXNlPTB4MzoweDExMyBtZT1oZXggc3VibWU9NyBwc3k9MSBwc3lfcmQ9MS4wMDowLjAwIG1peGVkX3JlZj0xIG1lX3JhbmdlPTE2IGNocm9tYV9tZT0xIHRyZWxsaXM9MSA4eDhkY3Q9MSBjcW09MCBkZWFkem9uZT0yMSwxMSBmYXN0X3Bza2lwPTEgY2hyb21hX3FwX29mZnNldD0tMiB0aHJlYWRzPTMgbG9va2FoZWFkX3RocmVhZHM9MSBzbGljZWRfdGhyZWFkcz0wIG5yPTAgZGVjaW1hdGU9MSBpbnRlcmxhY2VkPTAgYmx1cmF5X2NvbXBhdD0wIGNvbnN0cmFpbmVkX2ludHJhPTAgYmZyYW1lcz0zIGJfcHlyYW1pZD0yIGJfYWRhcHQ9MSBiX2JpYXM9MCBkaXJlY3Q9MSB3ZWlnaHRiPTEgb3Blbl9nb3A9MCB3ZWlnaHRwPTIga2V5aW50PTI1MCBrZXlpbnRfbWluPTI1IHNjZW5lY3V0PTQwIGludHJhX3JlZnJlc2g9MCByYz1jcXAgbWJ0cmVlPTAgcXA9MjAgaXBfcmF0aW89MS40MCBwYl9yYXRpbz0xLjMwIGFxPTAAgAAAAy1liIQA//70oPgUz6FLysxWvdiImDlA4OycM4dgAAADAAADAAHp0Nj9/P1hm4AAAAlgAiYTQPwPMRMVYqBK8CQIpTINuKEICLysr9OsdYP4TGi8RomaCjKtkuEO4y19ixk31Hb4326gYSLiueh+ojL9tc7c9GKSEueyy7fnuunFe2HB3gK4aV1o2iZ08MXYLx2Ql911ICdXIDEcMuatCBpre9o98RduVV8Q2ZXfe+mC9yfj9+U0w3Zx/mV2ygXZY0VnDTVrcixCj5MWkIB9JECpMIgHlzwXhtQYYon84TbeFzyIjUn4eiiFu88C5i2zVAFjJO9Q72TK3JDGuesv330rG29eYD7FovSySVP2GYB8aFRl55DYa2O8JzaR/TeFrZOOSIcat02Sj29ZygzqEDnBgEkne9zmdylvNRWthbwJBtl0e20iU6su1cShHNFELEyJ6cgc2vkP6a+QlQP/GSw6V3wP5+62EBRQUgX1vAjG3/NeNIQKQZbpO3/PJU6fmW5PoL3Nc9iMpElNpIetMY7ks4bAECQN0YOIgHLL0h5K12wM8+foX1Rb7VnZHftH+SqhKXt7VIJ6DjcTGM54GyLYqSHdv0UJDirXFYStnMcYLiUcWl0quFC2YccPt/pAM/ikeui7dEgmX3fz+Uw7mFEBz/TZV/kOH4lyo3620ZJ9vZWrwGY9QJg/YEMWahfBfN73Z761l2Qv75t1uocJo0UzG9i0vFFCYg/sC1XXU7rNLZ18I2k5G/xMCFIDJ2zWvNM6Dgb2tt6Ij3hdmYTY35pn90AlOltcd7Kq/2X5KoZUpqWw9LcKbuIjCUHZC07p0cFanSd1fRVrfQPGyMoOtmmnZgCpZ3E3PNL4eCicNyFs4kaZOlnWRF+1AJNPPH53mNYrhQUPwMZJCqTQ7UBWbWZO1LPT4Kq5EPr8eYU8+9Le6oGdPnwPcIO0t595Erlu+Omb28AEA7lQMdBY0lmxXejrNVwa/edhX0jsxGyXk1Q+JnQFZOFZV0OOcqs6UGewHUXecAH9mnZdFXOfEd0i/6PqlIeizp7OKOi06zJNsYtG+1MAAOoAAAMAAAMA4oEAAADHQZokbH/kQAAA7arPEVaBiH6Ok02ek72rbI7ZlQKkcxMtArXgI7cBd2KQpR2+ONKZC42J0jM21R28fHr3nAHliSiyRyZ8/6gIgCEI4fFh2qcBiqHMzB6QsV2YdMvoIoyUUnoZGHItU75+wNtq57jBJxKHLUCe1wlwWl7rlc0c94kJRhHChW8GcKcuG3RC9khWSFxbSP83b+7VyuryIpQyJ3GY5bUd8828hOsEy69V2cn9V9pz87EgOuZEkv6YPqDZpgRBfTMDzAAAAHFBnkJ4rwAAWqPzhu6nJcv5+BeVmG1Xt/1xvF/s8weSPSbREwx0VVhyO+PET8TqsubQJ86R6rLWMY/K6LoyKs/qEw2iDEQohaKE06drIRs89PL0oFvRqDUEKn9yyujbTOYRMYYOBO5D6eZ4PUQrmC3bMQAAABgBnmF0Sf8AAGgmQoIIS5MXXXZJC9sUyVAAAAAbAZ5jakn/AAAnP4IVr/HY0ko1M3kWCobN0hbNAAAAtUGaaEmoQWiZTA//5EAAAO05lF5aaetiq/GidcmRNLOq6zit7lIoG0Pm6TxuXpTGxjJPpEOFDPnK9uvcj1yuHhzUm62EESbBMIL4OLUSIG8c2+MIq1ef5ZOCxRoHpgD7Pp0lFoBciyI9GWtdaljATE+Az0h0Azz05DFdlUq9pqFGQERO2p+xf1UraUPGMZs/srvcXT87AxXxPz2sOEDhCRoSLxgpcP76FQb7tgzjPRBFz3j5/iEAAABtQZ6GRREtfwAAWvFOK1c6H4QUSgqxghuhQ0B0c6ARdJyC7rDcprZANBut5R92/YBG8/VAhrZe8DPknxXU8wpYrXp2MWAavzP0zjQwmvcRfLBI/6mbMP09k7tr7YfcScWnBRhbIb3CAhVRvWTwtwAAAD8BnqV0Sf8AACc3dSCSkuTF5HV2SMe6hvP4lBFdOymCxchh+cd8atefcwHjbxVYlrwHpiP214gItZTntqnX7YEAAABCAZ6nakn/AABoSuqnwvD+yz93pBYQrvVlXp/g3nLWUYwCG8cgOtJlt6VIpp24B19AllzIRmRWalp7mCFxcjGDMJeAAAAA00GarEmoQWyZTA//5EAAAO0fGQIOKrF4vx27kqUlJWqsD26FInVn2N10yxqnadYa0SUueDS5BaEeC1hMbuQ3gR66VBwnP8hbfFjYx6DXO29M9rmMop3jqcK2XtG6wJoCeEeRdDifmNa94RXqKgdfC9hLqRwo7mq1flaFYuaxkb4Fbqqj2nmyCftkiQV579T/+hlfhH6v6fxLEx2OEdYdJ8KFmUevGubB6UaUkTKahMu2tEG9QPjkcUh2YRDupVm0QjnvR16oCPZrrGACko+dkE977oAAAABnQZ7KRRUtfwAAWo6n4PzkylBVtQuhltusxn15//doWWOdHVS40lIxejKaYPsAr1E6xQ5ZqlhiAJNlzBnu6Kf/nHQm/uGurDRYEpQps1uqtVMXm5m9bcQ2PUxqk/ao0Y7SagLy2OntKwAAAB0Bnul0Sf8AAGgmRwuvfvXlNTZQa84DWDU6ARkpvQAAADUBnutqSf8AAGiq/oWbClQ3uX87l10QmAsarrg5k9lffJ2yUmr0gfw92Hkaf35lMrOlR9qUjAAAAHRBmvBJqEFsmUwP/+RAAADm8T9wQSr7f39NJMAddM23xOi9cdz+Sh9Z09em3kwhjJqZxdpmC+1XU9u9q/gQ/4G7Sk61D53Lum7GlJRdz1KWMe/4lPkDoSbTldJG9r4yJEKyahVvZXM4s8Uvr2/cVFLRv/AYEQAAACZBnw5FFS1/AABYaFRWAccXrwwWKYMqqZbXXuLT0eACUUhWOy7gQQAAABsBny10Sf8AAGWvnXUn2oQQFpcD5RyQLvtdRKkAAAAVAZ8vakn/AAADAB4JhDYGWte8eNmAAAAAM0GbNEmoQWyZTA//5EAAAOxo/pTd/VAPQfWMTEplRscCrVs+tIv1ncIryi4rDN8VICME8AAAAG5Bn1JFFS1/AABajnM/lxb1ZAfMGKS1xA+a6ZMfyb9RIPbodr6dzXgF827yxxXwhtyHvUmSnPgSFQwF7IVHeTJyl+PZPwRmoWCHBd95Bur/2k4+IcCYb/OKJTTUALFln21OAs9pzxfk9kwGj1tswQAAADMBn3F0Sf8AAGgmQoIIS5MXXuJA5+hZmi4F19YqhORN8j9BoLQOsztwxbcLm1IRXqL/fbAAAABEAZ9zakn/AABopeTijoAkRK/sX30Mksk5y7WfabaoEoZYp8Ya5Uv+ykHDhRGgP0HHiIQTeCjWvkl/aZVl4JdKWVYeYEAAAACXQZt4SahBbJlMD//kQAAA7GjzMyLmfx4k2u5WWtq3kBKr2i/YVcGy4jgY+N1LnskK1liQEmLrhxt2vWqVl+2969LWW+bYNnERxyx0DVE8DP5pjI+dQ2Dq45PCO2sYjWRoTZSLuY4o16kUEcSRr17RDTf1h9EIMq3nEdf8UNJtQNRpqUTXUdp7Zpsvynh1WMw2YBMwq7jnoQAAAHNBn5ZFFS1/AABajqgIMuV9zfz0ieOSJyisyFVekAmbz3ju2r3neNd5Eg1ZQ21WPNkiTBdevNigfaSO666taJ4lg9WWevRutI1IrVgyp8vBTdip6gWR7kHgQZSDxkNlDsLX0Wn3JNEuZlFSSDbbG7F1XvYsAAAAHwGftXRJ/wAAaLXWNHNUBdl/kOXZFGaR06nIfw8YRQUAAABQAZ+3akn/AABoUmyWtwNYM9BjTUg9ol+4Q1FsavR7xw22ey+w/eAa+Rm8zbMYRxv9vqatRVGsnjud1gsK6kgevf+MNZ6RYYTzd2mDMtExbMEAAAB4QZu8SahBbJlMD//kQAAA7nHDUQaJ82hsCUPpcZxJi5C8fBIcBD38cjM3k018Q0u7zDV4GoOR4wnh1e5ps6svINJ/VcgJkYBYk9SI9gJ3shDqTzw5PsdabdNSdiT7E8yRh6DYXZklrvDgxVyyCqDYTSe9CueLQEDeAAAAkEGf2kUVLX8AAFqj9nok6Wr98E++OTbFZqetLKaCrsrSPh1TWXjbahyuVGibjbUbFix5+vqw6ij+2eJO+fkiXvl/ykXrbww5K0VhcyY/p2W4vJVoVhbxaZX9YV+j9rcm//ABUC/nBBjIg7eQsARo4E0A9SaVe2OfWL6fn5N0L0Flq+QNsndin452zyU3iZXgwQAAAJcBn/l0Sf8AAGipsUO2JZWUBv8nfTKqC8Q7yoNGi6UP6S/Ad1vIfechc3pkIqcBwkVjhgRJePK4j+SDhJvfhuxC/fEovOgf9vZLzHwo5orPXWsb7NuTS2kAdmDjkcIsb7zu4HM/O/5za1h8H/K/TrnsP0gqK4XW7WS94AGbSSPTVioX5nN/MNqY5KAArCUIlUV8zjEi12zAAAAAagGf+2pJ/wAAJ3ofZP27/LRNCmJl528A+3uvgGuQGEgI7tiHThCv8+CvHsAU/BKwYMy0JP77Kx7+GEPoKCITAtKM3wo7cgNWoBNOCfLUSQGkIgSUeDKJkh8ilS5xxeycmE2YznF343/f8GEAAAEAQZvgSahBbJlMD//kQAAA59zrSlZtBoiYrHQAQm23EiNFEOIch2hMhW45+dhfh4ggTriWAxvczFhyvb1RvbM2qg7RoH75v5Go7JzxnwEFxqnW/URLflKvitZbKrgrbYvUk8oqWhDAvEP6S7Mop9JmC/Xc/ubHO5v31QTXDG3mWxW9qAshheB+wioAAXig+3GNaUBmH6pxRkPrk16V/sH2jF1Arh7qDB+ln/4C5cKpfOl2TjF4gOmU/5MGF/U2j0Ety2+U3yQg6CyJeOlDIHuBow6lvpnDOy82+dvuZudgCM2OyARvVmX1RowH0MtgYbDMEaUCGU8Eln/ep1qRt0UMqQAAAKJBnh5FFS1/AABYTqgtAWoPL46BDZ9eBM5zaX8elqdeD1JYPsCi826FB20LHIfJNgtMw68zy4F0QL9C8nQfZdXAANbMT8vdorgMOHRm8FxTITSL4QF+/AzAiDktEVAAFRARyOd8xjY7c3MXZPJ9Kga+W9eNYfhwsZfc4hkRqsxo1MQ6Dfasw4i0e6+Ls8rFrtnw+bFny4BI1o0i8k3ejHsytuAAAACeAZ49dEn/AABlnb1F8sIxymJPvL7hNIbLBvIZuACVs5Mu2JMreY0dnPGgXggiaRV9ERAjnKooVcbAvF4ZhgZYYTN7ZDja0YwFClQ3f7C/7s84z0YKIcSDRMw1ApWeZGdvwuS6lgSrevq3m928jjhJqgQlfDE+f4n8p9RPVpTuqFG7RpU3skPgNIpyErB7Moeg0mCi9vVfwnFP2geNtmAAAABbAZ4/akn/AABmKq8jfReoTOlNqV6h5oK2jeSWZDY2P0zUgftQ7U28vU222JkPlp4LOfcXnsAQg1/4PgfKunaBbWnvi3ac7rSvColqjKB4XA9G1bM4kbzmrtiVGQAAAI1BmiNJqEFsmUwP/+RAAADn3OhEcpovEcfLndTe69+3T/gL65jck2xeS+d+WBkYWqIIi+2jyle80V3aAwb3TmeQFdm/Ryi/BqpIqLDTdQ9LMMNShAtL5/xfIVLAIuzOtN1w8o0Z8diJxhAqOFPsTfmhBOWQjEClX7ODWIBkB4aa30VHvu/Gkd0UHR/+GbAAAAAoQZ5BRRUtfwAAWElhuXJdvMH823FeeJBwHxr/Q4Dt2kLdObgGwhMcsQAAALgBnmJqSf8AAGW11HXClTqNIsBsfqt9HF1ku7eV9rpUDZppTxdxJ32WI1F5D4TKTCTB/QhZ5CB9VZ5jUnm8IUyIDtHlB/sz2ZhF+d0F0FG+txzldhcqdSOVM4Ub2vSUq6PrbDlqPemvnL+3kNX1bQeGBub393LjIxeL8Ccj9BX1y+zz15k849cWYqJFd8JZYkt+W3cO6WIKv9yo3ADrh/qUOYiBlTrkEezB1Cm+j7lwk1Mw4nmfG+VgAAAAsEGaZ0moQWyZTA//5EAAAObhqtuBpYN89CHWRLtR+Q1G1YFo56uUwn0o0JV6mrqwChYk9T+6PEVGOYmcnpcq8mBhdG2005ZTsOkm8CqCwdpm3I+AUYMd1u932ADsUsP+eVylrQEtjvtxEP7j4T8KnaEKWuDS9C3cqEDVvTO1gsyLQj1HW70Ua5+mf6YGYQWN5ny51mcaYN0ivUlhfuzKCdpq5gcRj3+kPhZQqr0VFYehAAAAMEGehUUVLX8AAFhJV885ncvzz1IlLL8yVfsYLeyhwaZTp/K6sTa8Q9oC07C6Cq0+9QAAAF8BnqR0Sf8AAGaNn5Vde1VWs4gDZN4VIgZKTUbKs7ezzeK2rEHz91xBR8jv7oyqt87kxWIxFZtt6wSM5b69KSuEl7iGNNt4MZeggPnJkLlLOgQt1WwtBGSRPzWPuhQPBQAAAFABnqZqSf8AAGc5vnBPv7UzvaXzgz3PgQMVes4h/AuG3sA8WAW1B81FLu/0ZkLQtuy7K56WB912kQ796751/vBwXnr/d3/f1I+BjkFZCYVcEQAAAPBBmqlJqEFsmUwUT//kQAAA5t6Ubrk+r7MhnSbQMG5fcFBTmaae4mMNFD+v99kA8kIVL72BnZc+A70Jw5bvVe0wZQvz2oS722EvYZnGNxjfM+rqYiPN+hBcbbzDCkySCsC/QYfgowaj/JPXyq6NLaj0bwKH0o7qme6KsWRz+IDHB641Kg8SvnqHmsSRoRiG9zPyJCNZH3tqpe5IBCYdfdRo2mJGchRtkEhgzzOIrwGeUhml6tbPMbpR3YxHQ4K7QK8XboXMhFfcMUAIvuvKsN8ItZWIaDx7vzhpqQS74mHez11/9bDbqZOjxKzRMZbkqyoAAABHAZ7Iakn/AABmGcqbxnvD/D/1i+IHeqpsmbpxmqUOSuTh+ZP9WP2GBDS1ZqWKZgZdG9Ow+L8cPeFvNGC7rCLpaKtNBAYI+soAAAB5QZrKSeEKUmUwP+RAAADnnbtQmjGykaVC9ouajcSfNTzBdZTooQ2N6l5Acwhi2O9Ns9d4vfksIeHgoPah5bkORgP31b3c1yZSfOaXQIUQEJ5+BZ6wGLhysVJYbd+ia77/Oz5ZwR6lWJJpPxrfa9VErXwdLMpWWYsNOwAAAQZBmu1J4Q6JlMD/5EAAAOjxt8OiYMOfcN64dUr97+fG4EDHzc9/oEhqAg2k34494qFbjp7PgYsxF80YQqso35Xn8V47ob5E85mEIGccR5HeLjSVrb2TnkuYvOuIPBnIWyJuo//nBIOeE3ABaZXiJKbilDoTARNpKIPUeEQAwyu3Zoijrc2B4wgWoJ+IFIhtM1AFX9zLozC44XfPo3lYHHt3mEJScS1kAOHDf5nAUkkChFzBfBr2PfS5gmYmkFPoNs7Bnee5wAXiNoJNFoyPS/3tLgtxfP11niMqsAsv8YFoEOtWExcQ/a6Cp3HCe7TRD4n9MGfBrwrxPM/YUNHiYSBCAQk932VAAAAAW0GfC0URPX8AAFio/Ox4RqfcckJWlBfojaaUoM0T2X+Vcn469zB/5g59NF1Vj/n0GQVsf96v3Gz+N1J0Kwvz1z6/4DJhRdix+JKqaObKgxT823x8cbZK7wQ+/h4AAABQAZ8sakn/AABmGcavzDXy7yWeSFrH63SFun4VFk4xPcVP6NDSELPjn0YL2mGaoKvqY45SYBSEQTfQd69K0DgB/8kBpAxjWcULnfGyV58iY0EAAACVQZsxSahBaJlMD//kQAAA4WGt/3Qx2djYYep8cwdh/8N1zW9w2PZDoSD6CE/RGLNOhOdBDMC6xpztfoyd7jT507Rop9kt61nu49csoTvTwu+gFQ1R3YLONtwXNcBOLhCAbWgxhRIa0OvqDONzI6QGijwdwEAjbsd7kDVRUG5qJR1kIju3bFhxdiWTd/EvathGM56946EAAAAyQZ9PRREtfwAAVgljWTczvTYlJZyhcu+G5o6Jji3lJ0+D93I1QvoEfwB9to2u6nAqO4MAAABmAZ9udEn/AABjqXiy5idGoG9HtP7+bwcatTLLuWWEKZ0FWI7ZD0x/qTJu4eoO5bAi5YuGiESnS1UB+UNn+BPsDTwRWBQ81MDuXeax1gdPD3UkMMcMzCq66coOFKLlaXCtJ0t+bY6YAAAAZAGfcGpJ/wAAYzX63/bRv7CMq+UbHM9Q+5OceD/v7c0l3GefWN1DOSHnLYGEAJ+a0mJYsr9GspvZSkWqap2giDSlmPkOiwM34TgRs8EM8r8dnairOms36/F9+n7i1eVrcZwusmwAAAEjQZt1SahBbJlMD//kQAAA4WQ7G65Pq+zIXscgj68gEfrPrqNFsSArley3g9pfaWjiV7ZpyJdFHDUJEYohtKmw99d8fKwnyeduqHKIz1BdTn10kyOQhitJJ2cs2JcCpClDMqFFE0vfMbLhggjd43QKuove/+Gv6N/gWudPTLePwlWfBVmM842FiGHN1fuZvo7X/UgFxQigKBSVEbUS3ruccYvNQz4Xgn+n3vfMxrVPejEI3P22nflWtZjn+1FPCKlGazaPhzko2AXnxjsSu0l7nNqGntCYongAB+jNE1Z648VGJEJATm9M1w2UZFGcyvu/Ovx7f/xM7qjfywxM6+ScevWAYioKr70Dx2GPT6AC5XX2n/VFLFd/GU4Sxa9fxe7TdsuxAAAAgkGfk0UVLX8AAFYElB8zx037VHEO14U107oJJYNaswSBAZhu0AzvprpI6hF8Wqsm1uH35Rb6a6rbzsrwiBcAlTPK2ZDkF1cszw9nGSNToQ/H38D4kKF47+LLaGHrYlMZIiAB82Sc3j6ot2BUs1fDo5gD2beey6hMA2DrUiuMOnFbcEAAAABIAZ+ydEn/AABjpL4njK909ci56LqoMPgbQr0jNbQbvv0+8P5OTvTsYcvgH061fvo7TiP7CNstFmdC5SMwXzaEX/msLA+7s/b0AAAAWwGftGpJ/wAAYy/Y/YNm3n+ObewPjoA/N+hWobEckMFmUmPZATngnQRBlkqKi43WkwkJd5wQwY1ioEXicH7cKxSCqk+3SWsHtJgyXAPCUtG7Da0LjDTayExCl2cAAADZQZu5SahBbJlMD//kQAAA43HDMbzLtg0Gf45dP5HhM/uKbFI6+gZ14PODDht7KVDBB5zMjcVgPMZ7xMLIpoo5hc1cHI0B0X+tqp6ejuxu33SPETjaMc308AWWFRXw4balFuK3rge5q9QiANv/Ya06FV4uUFwjq3MIjRPXoahP0wCBTZozfoGF5Nhj5KOFItzoq8MpHxV9YU1JaKfXzMGf7oqDPu5NUsykGMRr3Rh2vK0MfepyjOviySZlLe3RmEQ3VLf37P3O8lF/jsnRJeaz2FDJgBiHgdJi7AAAAIlBn9dFFS1/AABWAnxt2zrEeCIGZAHgm4UpU0IDt2uuH5AaQ0oE9fVxB1Fwnnt50L0Asmmbl5K9Qqf8gw3jg8VHKpgUvJVm/fh0FzTkn6BZX0XnZwGGLihN4/NMVQHgI0YlT1DHo25Rl9uxOACznpVa0zzZwteKgwIA1p/7EDB6mp2MDlxGQu6qQQAAAH4Bn/Z0Sf8AAGMarFpWvPPFCxMgEc9kpyQz0WAvHca3WIhzwo/GvvxiSpLCwQmX0sVJvIcRbG1iJfYa0l8zgNBgkGZn3N7oBLRMo1a3A8EOj2xdOPWmQrZP2HrUDLBe3vm9h8FBiY2pmJ9pLTXphs7HithJf/htNKIzs/2gi4MAAACEAZ/4akn/AABjMGWI8AJ6YwGG5Hl7H1dZTNZkg2A6NDyLn+CgXn3pvK3ek2M1UOL/GIO3Xfmon3s8WsBq9jV3gAA3ndb7BWbGo2SpWqZyzezhCHx7CLBrauVcsVcCPxB8ZKONxiiy7HEEzm3mFkddVMW32sUfnIznj+bKfjAyzj6u1LjgAAABXkGb/UmoQWyZTA//5EAAANw3EcZnX40BJHvzXHKskmSmF3Hp9d3dd6Vu08IvHZ6nCk2IQ6g0BuyeB/s1kLY2GacvSpOYsxE6vdJunNHkL7omgOwnzM+s6MMcC0fZ19xBjo2rPJk0dPfQEcT/PakKr60psGrhRApCRlaDlBvqgMzMh1lGsaEP1CaYxWa5j2EAfQLyWbIarpQenf9WQLe98OuI8qNOtM0Wxu68pYBt6n0ObYWqVHuW9jQSl3v01Rowhc+8EAyLePpZ2LQyXYmx1eZfFTknK4mMTjb/g0J8Ett9pWdptbhQFGT8ZxJLpKBhz0nStn7YD4ap7sZZlcbXiEzBNiojX91ChbXhNw8RMLYlDiLmUco4W7737baq68KQ5UFprUMCXO6f2YZOCdsiDkmDHKZIWF8V/riz/0YSPJO6aejuFqB3E7SM22SrbKNeaLopvCS5HHJ0k/RYWma9AAAAtkGeG0UVLX8AAFOF5M0aOXkgsbQI4AkAM+/Nkiq6UmKACAshVXlb8yzcv6gANCtqYo1ios2bwbQlRtwZHHyr1J4/8l4V4iXYYUpN4FLMpC1HySIxf5cOW8gxytg8JzF/LZRpA7XXFaXq3wpp0OqlECJ7MTh74raYoH9n4DccmJ0c6kop6rYnYPtyuIldDNRync/HEwV/EgXcKRqj48C57lRKXlLc/YPazjaXPDxcJ60R8kA7mPkwAAAAdAGeOnRJ/wAAYJrGt860DrjzUxb1ll6InxMy0NX87674U8JgTW3dyyEX3RRyUkout9AH7Ic0myO02+fvTA+q6xROJDl+uVoZKT7NXf2nsDq8Mp5RMTasLacnH1DZFUhCrVUPyplkDIHaS2VQr8NZXGYa6h2TAAAAfwGePGpJ/wAAYRnKm7/QMMsGfKSqA2KJ833xsaVZbN2XEWvuq3+ACSEXjM/rQ7XmHSBSyACTebncIhwCzHtIYSH5ZvT7x/8jLHKU59UQ2rgTBONVM1+Q4OHtJgrI6l04DM7gNtZ7xMfhEftDvACE4BSQ4zXTcNX3qIgnJbaC9x0AAADxQZohSahBbJlMD//kQAAA3fHHGYk6xRRD7JYYC/mwwWIRqLcpKwT361FsnFB5AzFUPiChXHkaT+kEg/AlPyW/zomBB/7Rxy7j2K30/WiXW4l2sKcaS/qpQQPi4iuGkJsRf3EJaiktmhDuqpx+DSXzDJ/GloTTFaOEwKhEAjmH9it3oD13OsobyxbTdD6zWEeI6oqodEpv5hKML/hSa2c60524jSkCv1lAZEcfQUfhJJaiAAx/4MtLy2Hw/1e3Q3FSNHRPxDfMGw20moql/vrJonJcOc7IdKeTR8QsIX3/ZNWDoXqtV//LkSC3fUnBfB44uAAAAItBnl9FFS1/AABUJCQMKYtCX6iGUjSMReBAoC6QGqSxn2KmsCX6SCnPtODBuuvbE+MhyvMPhguLL0Ri865Nqp/yef4EsuZMzZGhz95wzK5su8Z7ipGuAmBLX0o5MzLv+BC6vrWXXWdJqjnNzDMRiEboAtmEMHJGbr9rQtusbNxnW21oKX9IFU0dbS44AAAANQGefnRJ/wAAYSS4dFWjeIXA50JtWjcCWzk5nfenMaPUiCyRDOTHpwKe0gAugl3wdE7stiyjAAAAOAGeYGpJ/wAAYK/xF7/h9rC6LF9iYskj5h00ygX4BrzlvD/LusTtJX06eqP329+mtb6ktNSt8HHAAAAAREGaY0moQWyZTBRP/+RAAADYW2W9/ElUITjhmxVcaVXJm/VBIUOqffZOvrnTDuLh/zKcxBTSL84/Okt8IcpjvMDG3/0xAAAAdAGegmpJ/wAAXpnMQggh/FMOiVkOeF9vEbFGcv4vaAoHJnOA/KQM0c8h0Vb5VNdQlNc/DPyFsOfgogJOfgQyWD3eOXeFyJzhq70Sz0xeXlLxAvjqv0QndmfEZJuHjrF9ia6n07+ZiswxdRqwcBM9U4yxX/uAAAAAsEGah0nhClJlMD/kQAAA1zdyIjGKUhI8H0AjKZRFkPbEvvhUAjbkerXSoVwMhamVl7+AFtg8Et2Lq5KTpXe09bGUbB1rC7a5k0jEKDZnVFrmwebfIs0TPLkC+6fDtxa6L1GCdL1oCfJX7JBJoM2ZpDKniXx2jrueh7dg5tBcQ+GddheMvb60NX/OadxRLWH68ZIjNRU6xbSthUcbhYSkkl6DNphbIZFa0b4qLJSyQ97lAAAAzkGepUU0TX8AAFGFf4HMJDAxbZ76fnzd2EKs4+qKG+ZlKq8tdtqo7e54lTB0mWrCVn2m08tnAv/zdLBCkH27VKtoSnrxvvOWpuvc3Ecv4gTwAlpRBeqWX4vWvsR6rOfwBopQqvR5WNyiQQ8ZLvz5wWGSvhBK+90hbi+p7O5Yhj1pqIuCMG/i/7kT6b1Xk6fODiJEq2yicyGD8EYHEhVaURL4hwgjrS9u1V6wLHjrOrRzLGYqlWz9LHeBcdSOGPBhzDeFhG1Z1e1eh+r9ZgXTAAAAVwGexHRJ/wAAX7njPEGgyLCWommApyosgmcQwdn09UaR+qVrO89dnWn3U9uY8H6EqPNOhJGSss80cG2O4ah9H98xJx3VefpEmGPUqO8WVrNEluQOKhN0wQAAADQBnsZqSf8AAF8hJR1AIYDmzrD19mMoHtFAlWyyJ+LVfoDY8avF6wW9W0kqXNSJPQY2mI+BAAAA0UGayEmoQWiZTA//5EAAANjxyy3suqnw+dqr092fTu5KeW9n16IgqlTh197lveooVdIZR55GulKeSoNihnh4THQRdpYRK0isPNwA0dEFTJZVQnev4hVx8xgz+1gUwXIfQk0EHzPYGJ2yNwAgWol+j0WALJAvhDAYZO0F3ujxgG3bNQI80ONqqLBUiI9xz5SjW9+44rno9aJjpWjimZmlohWDL4tih3lishOv7KCoeKFNAXH83k4nmkUWYLFgl7xeQJtmtuQEEte+r2ayYjXpUAM8AAAAvUGa7EnhClJlMD/kQAAA0jdyfW1E44vh7wvWw5TcbnEudbIrjJa2a+8aX+UZ5vBmUyTsIaGmsHG7UORpp065eYJ+8ERxdzWicWflJTgVqGwSstxfD6xMa1HzCnZkuuGsTHUUHC2YTuaraLWHPwUrkfOGk+VFoFk4JX23ColWPRd+7ODN5iFFkOOyIuAdrjlPsVGSyBVFmgzBiJ1RUqp/hGQ4OdzVcpl/09RafaPBHVqxGYCL6+O+Md7zNHIVYAAAAJ9BnwpFNE1/AABPpS54lF4L2uzLFtvtntb4pSy4n8Vtnr7c9rXQNL90bQ3yETACRq6+AZytIhxWYa4P5L0bFwTHSDd1kWsLEowiyAevcrl00pHhJ74Rn3+s794QC9BspYrhWZxeY4Hc6/PvM7DsGywxJG7dwCwm5XJ65zw6Qt9V2laret7E0BJOBz6oi5wNs0Srs+2Gy2/aZDXvJMYy3s0AAABzAZ8pdEn/AABcU8GEDeSsjmYeqpucVme9ozhqT0ZfaGof9WEWYrprvSrAog0oyr5JhoInQQ1TpJcQc22rpvCgCc64z6E3PhicwhkjXB+s7BGcR+Sy41/hNDdO026pdzvrTRGrjtZ/YvaCfcfb6kMI9IMfswAAAIgBnytqSf8AAFy6uGIuJ5dI9eYP9eIDr9wb42lBzxKvTenkXPr/zIzN+jcA/lYTgUvFMU2gflEThLf3U3HeGWjv91+cFNy/ie/dwn99BooB5iVL8c3GT8nfQYVRo7aFtFWOxf6deNPSfUD+KKKRK/2rrnJh6Hfq0qbKVWx/N4g8CptvuFO1v7ugAAAAq0GbLUmoQWiZTA//5EAAANIwhXquhatxARSMOmF09mQkpgUrYGEmMIWbjyqkEq1BW9POaUWnO83riOiwa+QVK8SuMdnFC6dVzy40jHDhKGUKMzBLXrsYcpn4kHf7eNP5TtOY+FmG6HEy2rNknYP8T5gybIfApTt7verb8ytxaQ17GO3SwYGbDqO5SfOsfdIKidYSS0olP3nI05Shclkv2taK8W8tT3spwtiFvQAAALJBm05J4QpSZTA/5EAAANPxt5yBAJ8KUe7riz6+xljskagnJf1f/wzCKNsP3za0WAMZeRAKSICSPBrDu4UdJD2mea/PHp0xJjeZOX5PM8c51aws81+TnDa6VLbvU4vDQYx5PQZTkzr3fE8EIaFDwn9IgV35o5DnOhkG6t+vL6mnuPKYijYu0HsgXsa4CeqgVmg13MDKY2z3VWBbQDgD1W1M35bQ0UkeBjNCpdOwaQXJ0mevAAABHEGbcEnhDomUwU0T/+RAAADNNLD34oKNDuGa2TV22/loCcc/WFH+2cvqZvip/fhzw1WrAwkC8y6KI2rqo8vr2yYXQ9EOBdkuD40kWL53ZdXMT/Cm4Ww7hPVcX62P5tl1EhRQ7MxBJKNzJJ5vez4P6hCYZLr2JBTv7gBq6Qh/XVt8LNQna7LMJtx2ANI3D0oUMrcMcaL3uusQ865SnmNoDTsg90He3vQgFXiBetM0gNcZ2u3RDLxFILB5aqbnj/JY89TS/9LONBO4bkaPfcToadYQc8i8ARNmUloR8ab/0FNth8vBzXoHPNdlKC7/vMB+1fZlXQCH6y1yp6IaE/0k1ltU/4gL384jG+Vvk6dRp31VEuVVB4IbhFni/bATAAAApQGfj2pJ/wAAWaJId/20+EDGZNoqCr7Re6SzGliUqFRZGPfS8/AZsTLt1t5Cq/VC8qaQpTeKZHfq35bLui+w+fU0pkCkrPbu3ymK9hLC6OK0sSsLreFfuSriYiN/I/KUxoAebTmeyfftePg/JkWCI/mMHS4UnQW2PD8BzUeyhwEaqz7M6LrXCaHY9nw463EfgB6T6KEcvt0nhcn5ILoBgxgYrQwUWAAAANBBm5FJ4Q8mUwP/5EAAAM4CpeanphKQtsYuLhWlerB676KfTRvaNdNrTash1xzGyc1RxM2Q7KHZHb7ZT7PU0MHhlgnshPngncWw0pKT8VsCXTaWhuPogtThJCWTlMZYP+2EGup8DW/AxK8pgkP0OoAlmELjYXV+svPNxCkKxy6XbOngejXFyc1j2gjrr/yhErVYnLdcg2stGy73QvlUu1J1V7jv0YNRGQgD6ljGg+H9xKhuqLKEI2KljDHH6K7lFdj3+ApcX94TMJOPUCBB4HjgAAABGkGbtEnhDyZTA//kQAAAzvG3nKYUT30cE1MPSiizWUWtdiYCLImbPXQ6PfH9kDDeB1hfnuH1PA1G7g48iGfQ7jMN2m1juBLZpdB53uBddaGVKo2d8fZkZKQmQgMGvPW4LMp1rLcRMNIbwFz/sz5AeIgw1aILbH8w92+YK8Dmpv3zuDL24hhZi4xhAosNxfhTdNsFJWaOiKNRXleheQtG/42vKeXvwRHK1vJuy2hoClJWkXVd1bYHUFYJnn5hOmjqhupXdvfFVviR6p28h7/Ta+GHoc4xWOcfUYe/MDdEGAiMzQekePF+HvvMYr5+DMUKiusdQQ/agxVc96pU6PHe2Kv/+auzut6euMc9KqU5d4mdM7LTryhUAqNP9wAAAHhBn9JFET1/AABM8uMGnEQ0cYMKv9R+XTDEKUqoh30vzzhi9rTOmdkOvm1brZsN83r/gn2A1MjmWCdxSdGOKTqmrX/rNEp4Xl0ep3/xc3hcG2+GgiRSZ5wp5Pe04paLcDELjCFKK1wpaAiMM0J5aBvEs5a7xnsekMAAAABnAZ/zakn/AABaCN8phP2CArMtn7eGtnEMfdim0PB1Unr9CNW4tQhYJq734zbEBgNjV97NVoFMLD3phh53Iv6GyDZaujrGg5P14dFtZetEjYMQ3GBQ4bH5bJwAs28rImdyW6RSFPb5gAAAAINBm/VJqEFomUwP/+RAAADJ11mX83f8jG0xSOCxo9R9EATbE6bdbZrOh2uajPnx91tOvJn1RF4h3UNAZi6zIp7WMxH0vZ0W9zmOTXaCmSXZ6HWBQES4RYFppokTRHNsIUThOOOFejQ5N0fnMJWeAJm98YsrYbnR58Wb08Y92gjIxxfTYwAAAGpBmhZJ4QpSZTA/5EAAAMgzp8V1+cHHVWOyIgOtEEYqWaU4iHFQiTwrAVUVNrAxmyEHO7FVG0XHOdErJO0UTfopNQ/K8hOYiSMZveN7LRvpFZErcdZKEWdPd96U7w56SizhByZIFD9/7GT6AAAAhkGaOUnhDomUwP/kQAAAyfHDPM5ulKcSqjntxy+im3MEcfQ5nJc09BrQ1IB/nYYJCjayITEYCEB10MGIhtZj6dSUDhzxszDwjf8/PFelx10cDb0rnf8ekkHNbUYXZ5nMqSvTjQPrjt5+oA++aroNCWztfJyQVOijULFXkxBr8SE8V/BGJgvTAAAAdkGeV0URPX8AAEtyaHa4IgirB+RtgzR2M/BKAT524ZdxsJdWsIbNuOGGuL4EF7IsyIdOHsz1dqRrfGa8vdycDaxNvK9uDC9z7fqfyTUY2I20XtRvOAsKIj4pd1ok55LnUNAEkExdxVxB5m00gmQzV5pa2pWdo4EAAAB6AZ54akn/AABXyeLDr2xsFcuNS/XxKWjq6jSZ16ktV9CUT0VOhsORHFURKZdmgLmM/1ejebZW5xg95wZ/1aYqyDA9U1MYPYG+MBM9nd83tIPAO081n34KY87JZqBoXHemKpBm+iyhvteN+kesSHxtj0daqPlY5yNDf4AAAACvQZp6SahBaJlMD//kQAAAw9Ep6MBAB7uED2K0Uy2zP/REEhkwK/Tn8aKOdcPU+xNA/iXbyJKBWE7BG/DJlgllWxrxsIkBIloFOZlNoiX1EHeyTrnEkkK/A6QjKampAUrKjNE261NNObpZztBDouroewHEfYVXN+36wVfFVpnAIBH8UteojGcmmCklRzpBHDj2wP8UllK2NOwdNdiLngUVTtFfj4nBpwI8MGNslV8T8QAAALJBmp1J4QpSZTA/5EAAAMM3QMjO/7MpMNWXHofG4BeKhDMnBpKN/NOaAeEtRZ4h9l4aZTrSODF6EMzBqIATWQKg5BrOXbWpYZdiFVBmWLedE8gWiXbCCzE0Lr28BBsyEEOENpFuDJ01c1M371EgBAsF862joBNLH8LJ9tuuGpPv7f2Dd3A9fde0aqA8pBunGb9X6Ay9HiKABiRYq9Vw+4VR1+YPct3QbK2SthcsPOzVcokbAAAAeEGeu0U0TX8AAEhkKd0iGOCg1p8L2zOcur73k7q3gIMpKF2G//ivF9uBTcKsEg9t/E15HUtaRjDCKoH/FYstGkrQWyhkEcEaOXkASBpQa7d/yRUxoJTFgeDhNjpyNymX7IY1EEzYO/dAgKsFDTmAtoRtGC3s/jxwqQAAAFwBntxqSf8AAFWI6vOJ7GphEBsAFJIbmd8l8Wq/KCCGmdYa14uux/A+Rk+DyCGrCzTJPmarzzg/uZkBp4ZoKaHnw4GAAl+5TB2S5HuYyqs8VCqOsEMn/DrNv/bg4QAAAF5Bmt5JqEFomUwP/+RAAADE8cfAK76FxGI7Sq0LF85CKFGRlBM4Eiewv42PKrOu/yZWaMzXJWFdPl7Tn8oah+1KcZy8FEJN/yogoYYQKLzOEaI42izHjYmgbt4XB5IgAAAAp0Ga4UnhClJlMD/kQAAAvjdyfWx/O6EGMlrdfuV0MIx5f5hYI6HMy3FwEffS5fGwPNXfBXROyX8B07YtMhtKmei/7jgHFYbxe90UCgSum8OodABMGsBcCWh+K9IhApcjzwIAwcgzNvq00XxhHRQ5oI2JKqh9yM8OzQHRnCUMT7hwv5A+vJL2DkVD/4AIxHulBBlPqoV+l/fKAEf5Y304Os6ac1060udkAAAAL0GfH0U0TX8AAEdzLRGlvx8JVdfEhvH+KpKpdm1nnI0+8hJP27plvsKM2pQRjbDxAAAAdQGfIGpJ/wAAVEhwEZawgDJxetKq/DSrEbsN3HxJ9JOq9EBlAFPu6rEwWTd8GDC1UOvq3MBBXPKZb1bv6tNOI8AsflbrvRj0aL/69YMFTsnbQS2fwTnc7nDNTRhUIquxwxOomAIo5rsYD2ZNyDsTvNmqx+h80AAAAK1BmyNJqEFomUwU/+RAAAC/8cM2DRS0O1aTeTSqsIjQ/WMZhKgEy1wcjkzx79MFwy7A/9hrv7KPl27VvhMgmEZdH/qHXtMzwcPBt8bi2P2JlkVvfxpRpZfv5/lVjkGUGvbTjbj4RqNQZGB39zVCU4ekKJkhm6SAGXZwnBixGdWokJDBBoiaUdBGFta8lBp3CltkzB1z+8s2m7Fn8K4WUDDzJA6mdnRn0c5nnGf/wQAAAGQBn0JqSf8AAFMDlzYzsIwPGSJ8J+LXaaIULBM6k1w1C5fyZU46H5BpRHXOo0+/I5zsTIeevbNzb36tz0WYXHigiBC55MdM7BGXoY2D9eOjLdBIh08d9bMzxhDwxMI2XoQtNOaQAAABFEGbR0nhClJlMD/kQAAAuvJnlOGDBkQH3wGhA7xpDAzgPya8MLCP4tNaSW+TTshWnl29/RaBWcRiwQR6SOeZUmCVOBmqa6bYQg10YGYpeMpsAzqtqxIhn67NLXdyuaM2yqtktUbnjCt7xewu+2aEcJZlR4HJbSMSyKxDemI7dp9T3W/0DPSRCrXBBAU2v1tbcpEhQ+jtPKx0tXKwR1K3SCpR0CS4Oa76gC59x7u+YHMhsKRiSI3Q/drxix8izu59+r97PqAY4kOuadIzYlBp5Zz26qJC+moLhD4n1glBSa/d0YEcBBQT5yICRfGf0AtbQWmrEcYb6sDpAHKKGvt6P3sXaaNRWnrGCxx8guS4LedGTZBoswAAAJZBn2VFNE1/AABFkAy2OZv+WLt/fZQCw6MZGsfM6/hilg0pEbQXTI4zxbNv+FYHAP5/OMYgmCdEiSWom+LPxe5OFA17xzsC62Q+OX9wb7Ripo5itOPKFwMURE3EitnKUTqjyt4Qc4EjOuucxEpTZeNMCtB+znsXUYpqcPsADot7IFpbjmE2Zu7H78lQRvuDqa2MMnr+gLkAAABKAZ+EdEn/AABQm4tgkrmGhoJ+/Vb7Ybf2ONiGBnpwfa6nM7n9DPUPe3p8Fo9FP2h839s6lNxaPRw7fdcAF4H4/08mNOAafpTouqEAAABxAZ+Gakn/AABRCd41JCFGhZKoB06qEOzv0EoOYxq6xP+D1k8sV1HGYMfX1t8pktu+1nX2/lsWky0pusy5WggsrQtNYvb4uNLNs1/JatZhgnDCBZnF/EWop/e2AsQfV8Xh/K9vaHZtYpXAje4BxQfXmkEAAACXQZuJSahBaJlMFP/kQAAAtXdNgwC8e9nqH5887ZRzxwVFFSsnH98UlZHRJbvwxKGc+DyPH+KtjdsBcPcUbJVIAUXuE+nPAefJwF3TfUnGSMs51eOzowMeyULCTvlbUhq5sj5ie6m2knLZptsDjoIZn4bs+YPoq+wZ8QpgqQJT9/Wu2VJ3Vfgp89ow54QNOL8VN5LDkB/G4AAAAGYBn6hqSf8AAE5kemmL7/hxoz6m17/fJhipjkeN3FjrIEtstzuFMJO6UwZXb2ahFq02TRaZW3LeJ1IxNkQZLGXubJk1g3ZuZ4N1qcgfXA1mt+6RMxlSIUcDDzcq49g4nqbrKdmQj4AAAAEoQZutSeEKUmUwP+RAAAC2cmCRu0ZXi29cT08E0Sq4N26E6YpfiRDiPrqeZS8utw+hM0nkO6x2iQNUMG/QOfsM9s9nTkGzVQViXr5LIsnzQBrqMKpmJaIVMm+ktzxv6zz+3rweSfYk1e4NPYJnsIydGQWbRU6h2Y9H8fRGHMRCakxh7rfMzEwOvQUKpraS7jC409KocWTrxkBewGpA54TMRw6yfsdiAO/ZJlZTLB42amnU8YULu3O39V/LN3gq7+U0DIpRdkAMwlbqft/MDqtLWXzeMFgqBKfQB1jukzWqyqgqqF3Mq+gwry9mDzwt2CGokjG3NxBPfiwzXDQOJTiKtlWmVI/K8mlf/qoP939abruIw6M1ZOnRR0Qy2gRK1XjYqWYPxaIFdn8AAADeQZ/LRTRNfwAAQz6VqDGkG3CXtJcg6G7Xopo1UGJTEoqOucc9sQ4hdoAlu/iUPMGTRoSCyTXuJcPnQPdi7nGxBtVdR8i9BBQJg8uwlFn63oD3ZWPDyOXUIxJ8ZXqZ0+KcEFZLWjM+3kyStK+cd6E4EFlE8B8Aoh9zaSWjDQtYsuGTtpgl/cote33fb4+i0rb5UUfalFsSYZiTsVeX+0qnNAeCynGVoKLGJow8kWqJ/pgWTveufn90+/qMP7zW85AFxqZo6Yw9a8UsWyJrMLLkigbg8MJGgPwbeCQEucfAAAAAZwGf6nRJ/wAATtAA6fsBqNrzQmaQ/6yT5CEZf95DSDlhUhzRciENF3iMM7FkomR/EfTw2XYsS2/EDZdaehd9yvIgN1acKPCBCxqUvK4Zq2xy9CG8OBhzb12bOHIsObmQJHjDgvABh8AAAABuAZ/sakn/AABMXfKQd5nmIu8EKwBH3r1TVJbnkGhq833GQoRRuVOs3xQF5L9H0HVxqowS4VVarILUhwVh7u+7J3M9NxlwNLtPkYj4EZav8ddflZ3h+WjLNKSDOJ8VY7R+12aId5dNs3zGbFgwqD8AAADUQZvuSahBaJlMD//kQAAAsFmnxVhIxor7NeVB8zJwJAUUXMIQjXp11wXwaFFD+Nhsi4dtNTfwpliA0z3GIgQtUtzTO5uFudlK1YRBFEw1sJsZAkiyetAtsM896yy57N5Miyqxa/zV03vEAQcDj3bUOS6H0y8u9e+R1Bsid1CPbYrdI+Kf5VgLm/vdwZvA+d+BEOtVVV7+kHlSns8RHoa6GPe+muraKjASIfhYqZ6bqT4XQS18B3VB6PClHU2DfP7FiOTtdEPD8FB3kSJrUSWtvqm8pfEAAACQQZoPSeEKUmUwP+RAAACx8mB+t4dNOBS60NgQxNiXG7sQBFb+VLfJ7RAoU8v7AzwoLj5oVvDy3EeYXhGW9qmZUOLK/x5mWfBGzHUXZxnC36vxESI9iLQZM8xHC6WQAsCzr3z4mjHDttki3qfbAXvdGY8e5VCGiR9qpq/19OMPCDsyI/ltq4wtD0sLXtNIvmJBAAABYkGaMUnhDomUwU0T/+RAAACr3UHwIgPdvE/XlptO+r8Pg/3/z6gLlwBq7zJrJ2uOe5V8K2XHGOeAmzlddqyBrUPWbfLNCkTh/XoQs4icvrV8BmjndHJ841eNhjLBgjMadbWBNfoe/sMDQNfjVx/9HCutdMJ+fmJYA6CV9jc8Q9N0vgcJdXelLatKOFnp+RaZ6LFMaVVDtl7z/ZFT9Jfnw93O1Gs/R6KMUPSLczu/g6qbn2KUiqR2/P2YKgW9NV1mNFWDKrOwzWROZnsZGHIBKqQ4K5NBs0l6bGNGIYloMZFIVs6aSyRzh7P8iv5pY4Xbsvb0P7IPbqdF4zHVWOKyYN5RN3j/Xh9FWKiGGbPIh/Us6AsBe2MkqV75pF8iK8fINqmrw5Zj7SP/uaRJwP6MfDZcW+cchSOYcslIfG4I0HOXfSRiDCdjeFjKDuLvIDmszn6Mub9ioTdS88Nez/mQgoaawAAAAHcBnlBqSf8AAEq5R3Hbmuaxb6qwNyuQbqafnlr2Nv45y//y3kLGiwIy/ZQhMQlcNSUiVK/3z2KC9yJSPwL2kk7rGIt8cGMe76laxy1+YIr9UD50fWYHor3eHT+n0AyjeYl8fpBPU73t23zj2N/o5bk0UKOKy+WKQAAAAT9BmlVJ4Q8mUwP/5EAAAK1yYJK5L7TrBAiY+7t9qG33fZ8zgxzRAS2/P1y9RVCA9Ht0chp9CeDgIHL1d980eOM8PkdSUuDXqccGyhp34OuZgvniM5Lv2AUlr/mU1r3roVJlZoPVJwX7H+Q8Zly/2wH5nsRpD9G8TU3XxyFz3KXOcC4SN23+nkDtv/vwOB8lBAl3WO3jbS0ZJ95613ZK7whGqhKer24KR4Vp8B3jn6R2jS1UA5YDEIQ5MzPDPZl0JxhDsnTxVPAmSeK4rQCxGGjLBmrbhGOIYA5HdwlQWyPfk26F7V6o+YXMz6zBb4rehBASYMySpjZRLyldcWb+yPRkXA1MEY+Jy+MuTPE5XR833oauGihBhrLKQ0Nc2BR3yhiP8XL2o3loOIEsaMdCJ5KYWm1HIzvYPtIguQTNjzMlAAAA2UGec0URPX8AAD9WikGpirh2/7bh/0vtfxE8n1iXcB1d7QkJPGrsAO/ItxVj88bRBxGKKtDatiqWldGZE6yGluGceaHhHCE/x770Hs9JjV6MLfMQcIialzJUQcvBYVcanPZXQU6eSqnMjqBxuP/ylVeZio1vxzobK4csapPYuqQob+wHOTWzu+3BMKKq/MGyE84Fwhvn6hA5rgPoGv3pRbSDh1Dy6pvI+5FYIXGnTlQgsn7UZzQJwi0n7kLufgfAydgsT8CPXHFbJHA1VI5zsJ6xzCx7c1I3EDAAAAB6AZ6SdEn/AABKWAtUkIOughEG0a1ukLnmZ9rKfPIOtTPS8t80uBAID1cjkxwo95o1b3wok68nx6h+Xw2a0tSM2yEgFZLZYkp6JoRms/p+3tUv5yjBeV3Z+DB7e0ZoeJv2Hhicj8LtTKWRkOEcIypHB71m+7qdcSQ+iPAAAAB9AZ6Uakn/AABIXfppnTM4WUngoCmwmYJ6pdc3/NXtEURulco103cS8jS9Yl43tht7Jwh55aofPGVqFlxCg9RSa14y6qZwu3WoEvbKnTiTo+ULQs4khwULg3x5xlVur1nyXAdODlSuF0dFA/GTcyZ8F0HOAWOSH0CzKM+xYmcAAAFfQZqXSahBaJlMFP/kQAAAqPJmD1TxCNx8MuExSvYT8duEDUj9h9O6iCjjnR8/4QdRnZGmIts6Z1WxI8DuA8zfl4Pk2xXU+J46dKxhKsTHWs9a4LiAkPNNAYPG2tGUB046di/hKkAdJDTJUfiqweEsTTccqqCghrepJ019/apxmCH0XnB2yOOLtPvRVFk7xW+QTEV14XD4+I4Fw8LKO+ArpGX8OaKUt1wyYEPQQELnj95+54IgIDJtYHxRyKaGQE9Xu95ZtBkyTyDqJlytHy0ZCHIfp8iaXIe6Ak+hqmRwkkgiBLNrxetiHv1GBTba2H6KfvY9XXz5P13mOD4IkOJxT6ErEQ2PET1EG4gVYPGPH7g6k0sLVGkKO3gPqKFkOQLEggZNshK+F6999AcwCSF6izIcT1HK8JFc4l95qA76G2KthT5LI5djJJc+BrLO/qA3HUhRPCAGVAl/hEufLcH0AAAAnwGetmpJ/wAASLmFMLk0WRClnnZlM8dZkNOGpjARpHD/DEquucTRquXCQRVPxUL9wuxmtrcEw7rLEB7Il37oAP7Vso/Ty8h/3EKN/uxUoLe5JaFN3SALdrUxXLd6/VTtBBclnwbO37+9a6r1Ce1XS6tiwLpHMfn+v2uiLF0axtK8wZgQ+KL4lPfPuilcpsz1sPsn+xg8Uw+mC2N1X2jKBwAACGttb292AAAAbG12aGQAAAAAAAAAAAAAAAAAAAPoAAAH0AABAAABAAAAAAAAAAAAAAAAAQAAAAAAAAAAAAAAAAAAAAEAAAAAAAAAAAAAAAAAAEAAAAAAAAAAAAAAAAAAAAAAAAAAAAAAAAAAAAAAAAACAAAHlXRyYWsAAABcdGtoZAAAAAMAAAAAAAAAAAAAAAEAAAAAAAAH0AAAAAAAAAAAAAAAAAAAAAAAAQAAAAAAAAAAAAAAAAAAAAEAAAAAAAAAAAAAAAAAAEAAAAACWAAAAZAAAAAAACRlZHRzAAAAHGVsc3QAAAAAAAAAAQAAB9AAAAIAAAEAAAAABw1tZGlhAAAAIG1kaGQAAAAAAAAAAAAAAAAAADwAAAB4AFXEAAAAAAAtaGRscgAAAAAAAAAAdmlkZQAAAAAAAAAAAAAAAFZpZGVvSGFuZGxlcgAAAAa4bWluZgAAABR2bWhkAAAAAQAAAAAAAAAAAAAAJGRpbmYAAAAcZHJlZgAAAAAAAAABAAAADHVybCAAAAABAAAGeHN0YmwAAACYc3RzZAAAAAAAAAABAAAAiGF2YzEAAAAAAAAAAQAAAAAAAAAAAAAAAAAAAAACWAGQAEgAAABIAAAAAAAAAAEAAAAAAAAAAAAAAAAAAAAAAAAAAAAAAAAAAAAAAAAAAAAY//8AAAAyYXZjQwFkAB//4QAZZ2QAH6zZQJgz5eEAAAMAAQAAAwB4DxgxlgEABmjr4bLIsAAAABhzdHRzAAAAAAAAAAEAAAB4AAABAAAAABRzdHNzAAAAAAAAAAEAAAABAAADiGN0dHMAAAAAAAAAbwAAAAEAAAIAAAAAAQAABQAAAAABAAACAAAAAAEAAAAAAAAAAQAAAQAAAAABAAAFAAAAAAEAAAIAAAAAAQAAAAAAAAABAAABAAAAAAEAAAUAAAAAAQAAAgAAAAABAAAAAAAAAAEAAAEAAAAAAQAABQAAAAABAAACAAAAAAEAAAAAAAAAAQAAAQAAAAABAAAFAAAAAAEAAAIAAAAAAQAAAAAAAAABAAABAAAAAAEAAAUAAAAAAQAAAgAAAAABAAAAAAAAAAEAAAEAAAAAAQAABQAAAAABAAACAAAAAAEAAAAAAAAAAQAAAQAAAAABAAAFAAAAAAEAAAIAAAAAAQAAAAAAAAABAAABAAAAAAEAAAQAAAAAAgAAAQAAAAABAAAFAAAAAAEAAAIAAAAAAQAAAAAAAAABAAABAAAAAAEAAAMAAAAAAQAAAQAAAAABAAACAAAAAAEAAAQAAAAAAgAAAQAAAAABAAAFAAAAAAEAAAIAAAAAAQAAAAAAAAABAAABAAAAAAEAAAUAAAAAAQAAAgAAAAABAAAAAAAAAAEAAAEAAAAAAQAABQAAAAABAAACAAAAAAEAAAAAAAAAAQAAAQAAAAABAAAFAAAAAAEAAAIAAAAAAQAAAAAAAAABAAABAAAAAAEAAAUAAAAAAQAAAgAAAAABAAAAAAAAAAEAAAEAAAAAAQAAAwAAAAABAAABAAAAAAEAAAUAAAAAAQAAAgAAAAABAAAAAAAAAAEAAAEAAAAAAQAAAgAAAAABAAAFAAAAAAEAAAIAAAAAAQAAAAAAAAABAAABAAAAAAIAAAIAAAAAAQAAAwAAAAABAAABAAAAAAEAAAIAAAAAAQAABAAAAAACAAABAAAAAAIAAAIAAAAAAQAABAAAAAACAAABAAAAAAEAAAIAAAAAAQAABAAAAAACAAABAAAAAAEAAAIAAAAAAQAABAAAAAACAAABAAAAAAEAAAMAAAAAAQAAAQAAAAABAAAFAAAAAAEAAAIAAAAAAQAAAAAAAAABAAABAAAAAAEAAAMAAAAAAQAAAQAAAAABAAAFAAAAAAEAAAIAAAAAAQAAAAAAAAABAAABAAAAAAIAAAIAAAAAAQAAAwAAAAABAAABAAAAAAEAAAUAAAAAAQAAAgAAAAABAAAAAAAAAAEAAAEAAAAAAQAAAwAAAAABAAABAAAAABxzdHNjAAAAAAAAAAEAAAABAAAAeAAAAAEAAAH0c3RzegAAAAAAAAAAAAAAeAAABbQAAADLAAAAdQAAABwAAAAfAAAAuQAAAHEAAABDAAAARgAAANcAAABrAAAAIQAAADkAAAB4AAAAKgAAAB8AAAAZAAAANwAAAHIAAAA3AAAASAAAAJsAAAB3AAAAIwAAAFQAAAB8AAAAlAAAAJsAAABuAAABBAAAAKYAAACiAAAAXwAAAJEAAAAsAAAAvAAAALQAAAA0AAAAYwAAAFQAAAD0AAAASwAAAH0AAAEKAAAAXwAAAFQAAACZAAAANgAAAGoAAABoAAABJwAAAIYAAABMAAAAXwAAAN0AAACNAAAAggAAAIgAAAFiAAAAugAAAHgAAACDAAAA9QAAAI8AAAA5AAAAPAAAAEgAAAB4AAAAtAAAANIAAABbAAAAOAAAANUAAADBAAAAowAAAHcAAACMAAAArwAAALYAAAEgAAAAqQAAANQAAAEeAAAAfAAAAGsAAACHAAAAbgAAAIoAAAB6AAAAfgAAALMAAAC2AAAAfAAAAGAAAABiAAAAqwAAADMAAAB5AAAAsQAAAGgAAAEYAAAAmgAAAE4AAAB1AAAAmwAAAGoAAAEsAAAA4gAAAGsAAAByAAAA2AAAAJQAAAFmAAAAewAAAUMAAADdAAAAfgAAAIEAAAFjAAAAowAAABRzdGNvAAAAAAAAAAEAAAAwAAAAYnVkdGEAAABabWV0YQAAAAAAAAAhaGRscgAAAAAAAAAAbWRpcmFwcGwAAAAAAAAAAAAAAAAtaWxzdAAAACWpdG9vAAAAHWRhdGEAAAABAAAAAExhdmY1OC4yOS4xMDA=\" type=\"video/mp4\"/>\n",
              "      This browser does not support the video tag.\n",
              "      </video></td></tr></table>"
            ]
          },
          "metadata": {}
        }
      ]
    },
    {
      "cell_type": "markdown",
      "source": [
        "## Controlling NeuroMechFly with RL\n",
        "\n",
        "As discussed in the lecture, we will now try to control the stepping of each legs with reinforcement learning.\n",
        "\n",
        "First we need to write our own Gym environment that functions as a \"wrapper\" around the underlying the `NeuroMechFlyMuJoCo` object. You can achieve this by implementing a class inheriting from `gym.Env` with the actual `NeuroMechFlyMuJoCo` simulation saved as an attribute.\n",
        "\n",
        "There are three things to note here:\n",
        "1. For the gym environment to work with models in Stable Baselines 3, the observation and action spaces have to be arrays instead of dictionaries of arrays. We do this by concatenating the flattened arrays into a single array.\n",
        "2. Under `__init__`, you have to define the expected dimensions and bounds of the observation/action space, so the model knows what inputs/outputs are valid.\n",
        "3. The `step` method has to return five values: the observation, the reward, whether the simulation is terminated, whether the simulation is truncated, and some additional info. This is different from `NeuroMechFlyMuJoCo`."
      ],
      "metadata": {
        "id": "nvtF10IVFZQ2"
      }
    },
    {
      "cell_type": "code",
      "source": [
        "from gymnasium import spaces\n",
        "\n",
        "class MyNMF(gym.Env):\n",
        "    def __init__(self, **kwargs):\n",
        "        self.nmf = NeuroMechFlyMuJoCo(**kwargs)\n",
        "        num_dofs = len(self.nmf.actuated_joints)\n",
        "        bound = 0.5\n",
        "        self.action_space = spaces.Box(low=-bound, high=bound,\n",
        "                                       shape=(num_dofs,))\n",
        "        self.observation_space = spaces.Box(low=-np.inf, high=np.inf,\n",
        "                                            shape=(num_dofs,))\n",
        "    \n",
        "    def _parse_obs(self, raw_obs):\n",
        "        features = [\n",
        "            raw_obs['joints'][:, 0].flatten(),\n",
        "            # raw_obs['fly'].flatten(),\n",
        "            # what else would you like to include?\n",
        "        ]\n",
        "        print(raw_obs['joints'].shape)\n",
        "        return np.concatenate(features, dtype=np.float32)\n",
        "    \n",
        "    def reset(self):\n",
        "        raw_obs, info = self.nmf.reset()\n",
        "        return self._parse_obs(raw_obs), info\n",
        "        \n",
        "    def step(self, action):\n",
        "        raw_obs, info = self.nmf.step({'joints': action})\n",
        "        obs = self._parse_obs(raw_obs)\n",
        "        joint_pos = raw_obs['joints'][0, :]\n",
        "        fly_pos = raw_obs['fly'][0, :]\n",
        "        reward = ...  # what is your reward function?\n",
        "        terminated = False\n",
        "        truncated = False\n",
        "        return obs, reward, terminated, truncated, info\n",
        "\n",
        "    def render(self):\n",
        "        return self.nmf.render()\n",
        "    \n",
        "    def close(self):\n",
        "        return self.nmf.close()"
      ],
      "metadata": {
        "id": "NweX2VHfGAiQ"
      },
      "execution_count": null,
      "outputs": []
    },
    {
      "cell_type": "markdown",
      "source": [
        "We can now train a agent on this environment:"
      ],
      "metadata": {
        "id": "Og0HRn51GCpz"
      }
    },
    {
      "cell_type": "code",
      "source": [
        "run_time = 0.5\n",
        "nmf_env_headless = MyNMF(render_mode='headless',\n",
        "                         timestep=1e-4,\n",
        "                         init_pose='stretch',\n",
        "                         actuated_joints=...)  # which DoFs would you use?\n",
        "nmf_model = PPO(MlpPolicy, nmf_env_headless, verbose=1)\n",
        "nmf_model.learn(total_timesteps=100_000, progress_bar=True)\n",
        "nmf_model.close()\n"
      ],
      "metadata": {
        "id": "8qhx6G9BJ1PR"
      },
      "execution_count": null,
      "outputs": []
    },
    {
      "cell_type": "markdown",
      "source": [
        "... and evaluate it:"
      ],
      "metadata": {
        "id": "bYF3x3xYJ_dV"
      }
    },
    {
      "cell_type": "code",
      "source": [
        "nmf_env_rendered = MyNMF(render_mode='saved',\n",
        "                         timestep=1e-4,\n",
        "                         init_pose='stretch',\n",
        "                         render_config={'playspeed': 0.1,\n",
        "                                        'camera': 'Animat/camera_left_top'},\n",
        "                         actuated_joints=...)\n",
        "obs, _ = nmf_env_rendered.reset()\n",
        "obs_list = []\n",
        "rew_list = []\n",
        "for i in range(int(run_time / nmf_env_rendered.nmf.timestep)):\n",
        "    action, _ = nmf_model.predict(obs)\n",
        "    obs, reward, terminated, truncated, info = nmf_env_rendered.step(action)\n",
        "    obs_list.append(obs)\n",
        "    rew_list.append(reward)\n",
        "    nmf_env_rendered.render()"
      ],
      "metadata": {
        "id": "gBu3XHFgKB5o"
      },
      "execution_count": null,
      "outputs": []
    },
    {
      "cell_type": "markdown",
      "source": [
        "We can also visualize the results:"
      ],
      "metadata": {
        "id": "NYa2iPSzKWJ7"
      }
    },
    {
      "cell_type": "code",
      "source": [
        "nmf_env_rendered.nmf.save_video('filename.mp4')\n",
        "nmf_env_rendered.close()"
      ],
      "metadata": {
        "id": "rRRUOJCPKYDU"
      },
      "execution_count": null,
      "outputs": []
    }
  ]
}