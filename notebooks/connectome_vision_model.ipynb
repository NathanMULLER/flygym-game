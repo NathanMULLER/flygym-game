{
 "cells": [
  {
   "cell_type": "markdown",
   "metadata": {},
   "source": [
    "# Connectome-constrained visual system model\n",
    "\n",
    "**Summary**: In this tutorial, we will demonstrate how to integrate a connectome-constrained visual system model [(Lappalainen et al., 2023)](https://www.biorxiv.org/content/10.1101/2023.03.11.532232) into NeuroMechFly. We will simulate a scenario where a stationary fly observes another fly walking in front of it and examine the responses of different classes of neurons in the visual system."
   ]
  },
  {
   "cell_type": "code",
   "execution_count": 1,
   "metadata": {},
   "outputs": [],
   "source": [
    "import matplotlib.pyplot as plt\n",
    "import numpy as np\n",
    "from tqdm import trange\n",
    "from flygym import Camera, Simulation\n",
    "from flygym.examples.locomotion import HybridTurningFly\n",
    "from flygym.examples.vision.realistic_vision_fly import RealisticVisionFly"
   ]
  },
  {
   "cell_type": "code",
   "execution_count": 2,
   "metadata": {},
   "outputs": [
    {
     "data": {
      "text/plain": [
       "(-0.5, 639.5, 479.5, -0.5)"
      ]
     },
     "execution_count": 2,
     "metadata": {},
     "output_type": "execute_result"
    },
    {
     "data": {
      "image/png": "[encoded data removed]",
      "text/plain": [
       "<Figure size 640x480 with 1 Axes>"
      ]
     },
     "metadata": {},
     "output_type": "display_data"
    }
   ],
   "source": [
    "timestep = 1e-4\n",
    "contact_sensor_placements = [\n",
    "    f\"{leg}{segment}\"\n",
    "    for leg in [\"LF\", \"LM\", \"LH\", \"RF\", \"RM\", \"RH\"]\n",
    "    for segment in [\"Tibia\", \"Tarsus1\", \"Tarsus2\", \"Tarsus3\", \"Tarsus4\", \"Tarsus5\"]\n",
    "]\n",
    "\n",
    "target = HybridTurningFly(\n",
    "    name=\"target\",\n",
    "    enable_adhesion=True,\n",
    "    draw_adhesion=True,\n",
    "    contact_sensor_placements=contact_sensor_placements,\n",
    "    seed=0,\n",
    "    draw_corrections=True,\n",
    "    timestep=timestep,\n",
    "    spawn_pos=(3, 3, 0.5),\n",
    "    spawn_orientation=(0, 0, 0),\n",
    ")\n",
    "\n",
    "observer = RealisticVisionFly(\n",
    "    name=\"observer\",\n",
    "    spawn_pos=(0, 0, 0.5),\n",
    "    spawn_orientation=(0, 0, np.pi / 2),\n",
    "    contact_sensor_placements=contact_sensor_placements,\n",
    "    head_stabilization_model=\"thorax\",\n",
    ")\n",
    "\n",
    "cam = Camera(\n",
    "    fly=observer,\n",
    "    camera_id=\"Animat/camera_top_zoomout\",\n",
    ")\n",
    "\n",
    "sim = Simulation(\n",
    "    flies=[observer, target],\n",
    "    cameras=[cam],\n",
    "    timestep=timestep,\n",
    ")\n",
    "\n",
    "im = sim.render()[0]\n",
    "\n",
    "fig, ax = plt.subplots()\n",
    "ax.imshow(im)\n",
    "ax.axis(\"off\")"
   ]
  },
  {
   "cell_type": "code",
   "execution_count": 3,
   "metadata": {},
   "outputs": [],
   "source": [
    "obs, info = sim.reset(seed=0)\n",
    "viz_data_all = []\n",
    "\n",
    "for i in trange(10000):\n",
    "    obs, _, _, _, info = sim.step(\n",
    "        {\n",
    "            \"observer\": np.zeros(2),  # stand still\n",
    "            \"target\": np.ones(2),  # walk forward\n",
    "        }\n",
    "    )\n",
    "\n",
    "    rendered_img = sim.render()[0]\n",
    "\n",
    "    if rendered_img is not None:\n",
    "        viz_data = {\n",
    "            \"rendered_image\": rendered_img,\n",
    "            \"vision_observation\": obs[\"observer\"][\"vision\"],\n",
    "            \"nn_activities\": info[\"observer\"][\"nn_activities\"],\n",
    "        }\n",
    "        viz_data_all.append(viz_data)\n",
    "\n",
    "    if obs[\"target\"][\"fly\"][0, 1] < -3:\n",
    "        break"
   ]
  },
  {
   "cell_type": "markdown",
   "metadata": {},
   "source": [
    "We can visualize activites of different classes of neurons along with the ommatidia readings and the top-view rendering using the provided `visualize_vision` function:"
   ]
  },
  {
   "cell_type": "code",
   "execution_count": null,
   "metadata": {},
   "outputs": [],
   "source": [
    "from flygym.examples.vision import RetinaMapper\n",
    "from flygym.examples.vision.viz import visualize_vision\n",
    "from flygym.vision import Retina\n",
    "\n",
    "visualize_vision(\n",
    "    \"temp2.mp4\",\n",
    "    Retina(),\n",
    "    RetinaMapper(),\n",
    "    viz_data_all[:10],\n",
    "    fps=cam.fps,\n",
    ")\n",
    "plt.close()"
   ]
  }
 ],
 "metadata": {
  "kernelspec": {
   "display_name": "flygym",
   "language": "python",
   "name": "python3"
  },
  "language_info": {
   "codemirror_mode": {
    "name": "ipython",
    "version": 3
   },
   "file_extension": ".py",
   "mimetype": "text/x-python",
   "name": "python",
   "nbconvert_exporter": "python",
   "pygments_lexer": "ipython3",
   "version": "3.12.3"
  }
 },
 "nbformat": 4,
 "nbformat_minor": 2
}
